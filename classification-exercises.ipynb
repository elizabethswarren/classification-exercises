{
 "cells": [
  {
   "cell_type": "markdown",
   "id": "57f8163c",
   "metadata": {},
   "source": [
    "# Classification Exercises"
   ]
  },
  {
   "cell_type": "markdown",
   "id": "ae65f8da",
   "metadata": {},
   "source": [
    "In a jupyter notebook, classification_exercises.ipynb, use a python module (pydata or seaborn datasets) containing datasets as a source from the iris data. Create a pandas dataframe, df_iris, from this data.\n",
    "\n",
    "print the first 3 rows\n",
    "print the number of rows and columns (shape)\n",
    "print the column names\n",
    "print the data type of each column\n",
    "print the summary statistics for each of the numeric variables"
   ]
  },
  {
   "cell_type": "code",
   "execution_count": null,
   "id": "b513da15",
   "metadata": {},
   "outputs": [],
   "source": []
  }
 ],
 "metadata": {
  "kernelspec": {
   "display_name": "Python 3 (ipykernel)",
   "language": "python",
   "name": "python3"
  },
  "language_info": {
   "codemirror_mode": {
    "name": "ipython",
    "version": 3
   },
   "file_extension": ".py",
   "mimetype": "text/x-python",
   "name": "python",
   "nbconvert_exporter": "python",
   "pygments_lexer": "ipython3",
   "version": "3.10.9"
  }
 },
 "nbformat": 4,
 "nbformat_minor": 5
}
