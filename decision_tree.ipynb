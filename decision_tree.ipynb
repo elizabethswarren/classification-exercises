{
 "cells": [
  {
   "cell_type": "markdown",
   "id": "f955aaa5",
   "metadata": {},
   "source": [
    "# Decision Tree Exercises\n",
    "\n",
    "Using the titanic data, in your classification-exercises repository, create a notebook, decision_tree.ipynb where you will do the following:"
   ]
  },
  {
   "cell_type": "code",
   "execution_count": 1,
   "id": "a112922f",
   "metadata": {},
   "outputs": [],
   "source": [
    "import pandas as pd\n",
    "import numpy as np\n",
    "\n",
    "import matplotlib.pyplot as plt\n",
    "import seaborn as sns\n",
    "\n",
    "from sklearn.model_selection import train_test_split\n",
    "from sklearn.tree import DecisionTreeClassifier, plot_tree\n",
    "from sklearn.metrics import classification_report\n",
    "from sklearn.metrics import confusion_matrix\n",
    "\n",
    "import acquire\n",
    "import prepare\n",
    "import env"
   ]
  },
  {
   "cell_type": "code",
   "execution_count": 2,
   "id": "c36db94a",
   "metadata": {},
   "outputs": [],
   "source": [
    "df = acquire.get_titanic_data()"
   ]
  },
  {
   "cell_type": "code",
   "execution_count": 3,
   "id": "a188511d",
   "metadata": {},
   "outputs": [],
   "source": [
    "clean_df = prepare.prep_titanic(df)"
   ]
  },
  {
   "cell_type": "code",
   "execution_count": 4,
   "id": "6119ab3a",
   "metadata": {},
   "outputs": [],
   "source": [
    "train, validate, test = prepare.split_data(clean_df)"
   ]
  },
  {
   "cell_type": "code",
   "execution_count": 5,
   "id": "bcf4001d",
   "metadata": {},
   "outputs": [
    {
     "data": {
      "text/html": [
       "<div>\n",
       "<style scoped>\n",
       "    .dataframe tbody tr th:only-of-type {\n",
       "        vertical-align: middle;\n",
       "    }\n",
       "\n",
       "    .dataframe tbody tr th {\n",
       "        vertical-align: top;\n",
       "    }\n",
       "\n",
       "    .dataframe thead th {\n",
       "        text-align: right;\n",
       "    }\n",
       "</style>\n",
       "<table border=\"1\" class=\"dataframe\">\n",
       "  <thead>\n",
       "    <tr style=\"text-align: right;\">\n",
       "      <th></th>\n",
       "      <th>passenger_id</th>\n",
       "      <th>survived</th>\n",
       "      <th>pclass</th>\n",
       "      <th>sex</th>\n",
       "      <th>sibsp</th>\n",
       "      <th>parch</th>\n",
       "      <th>fare</th>\n",
       "      <th>embark_town</th>\n",
       "      <th>alone</th>\n",
       "      <th>sex_male</th>\n",
       "      <th>embark_town_Queenstown</th>\n",
       "      <th>embark_town_Southampton</th>\n",
       "    </tr>\n",
       "  </thead>\n",
       "  <tbody>\n",
       "    <tr>\n",
       "      <th>376</th>\n",
       "      <td>376</td>\n",
       "      <td>1</td>\n",
       "      <td>3</td>\n",
       "      <td>female</td>\n",
       "      <td>0</td>\n",
       "      <td>0</td>\n",
       "      <td>7.2500</td>\n",
       "      <td>Southampton</td>\n",
       "      <td>1</td>\n",
       "      <td>0</td>\n",
       "      <td>0</td>\n",
       "      <td>1</td>\n",
       "    </tr>\n",
       "    <tr>\n",
       "      <th>457</th>\n",
       "      <td>457</td>\n",
       "      <td>1</td>\n",
       "      <td>1</td>\n",
       "      <td>female</td>\n",
       "      <td>1</td>\n",
       "      <td>0</td>\n",
       "      <td>51.8625</td>\n",
       "      <td>Southampton</td>\n",
       "      <td>0</td>\n",
       "      <td>0</td>\n",
       "      <td>0</td>\n",
       "      <td>1</td>\n",
       "    </tr>\n",
       "    <tr>\n",
       "      <th>77</th>\n",
       "      <td>77</td>\n",
       "      <td>0</td>\n",
       "      <td>3</td>\n",
       "      <td>male</td>\n",
       "      <td>0</td>\n",
       "      <td>0</td>\n",
       "      <td>8.0500</td>\n",
       "      <td>Southampton</td>\n",
       "      <td>1</td>\n",
       "      <td>1</td>\n",
       "      <td>0</td>\n",
       "      <td>1</td>\n",
       "    </tr>\n",
       "    <tr>\n",
       "      <th>665</th>\n",
       "      <td>665</td>\n",
       "      <td>0</td>\n",
       "      <td>2</td>\n",
       "      <td>male</td>\n",
       "      <td>2</td>\n",
       "      <td>0</td>\n",
       "      <td>73.5000</td>\n",
       "      <td>Southampton</td>\n",
       "      <td>0</td>\n",
       "      <td>1</td>\n",
       "      <td>0</td>\n",
       "      <td>1</td>\n",
       "    </tr>\n",
       "    <tr>\n",
       "      <th>29</th>\n",
       "      <td>29</td>\n",
       "      <td>0</td>\n",
       "      <td>3</td>\n",
       "      <td>male</td>\n",
       "      <td>0</td>\n",
       "      <td>0</td>\n",
       "      <td>7.8958</td>\n",
       "      <td>Southampton</td>\n",
       "      <td>1</td>\n",
       "      <td>1</td>\n",
       "      <td>0</td>\n",
       "      <td>1</td>\n",
       "    </tr>\n",
       "  </tbody>\n",
       "</table>\n",
       "</div>"
      ],
      "text/plain": [
       "     passenger_id  survived  pclass     sex  sibsp  parch     fare  \\\n",
       "376           376         1       3  female      0      0   7.2500   \n",
       "457           457         1       1  female      1      0  51.8625   \n",
       "77             77         0       3    male      0      0   8.0500   \n",
       "665           665         0       2    male      2      0  73.5000   \n",
       "29             29         0       3    male      0      0   7.8958   \n",
       "\n",
       "     embark_town  alone  sex_male  embark_town_Queenstown  \\\n",
       "376  Southampton      1         0                       0   \n",
       "457  Southampton      0         0                       0   \n",
       "77   Southampton      1         1                       0   \n",
       "665  Southampton      0         1                       0   \n",
       "29   Southampton      1         1                       0   \n",
       "\n",
       "     embark_town_Southampton  \n",
       "376                        1  \n",
       "457                        1  \n",
       "77                         1  \n",
       "665                        1  \n",
       "29                         1  "
      ]
     },
     "execution_count": 5,
     "metadata": {},
     "output_type": "execute_result"
    }
   ],
   "source": [
    "train.head()"
   ]
  },
  {
   "cell_type": "markdown",
   "id": "66ccbc48",
   "metadata": {},
   "source": [
    "## 1. What is your baseline prediction? What is your baseline accuracy? remember: your baseline prediction for a classification problem is predicting the most prevelant class in the training dataset (the mode). When you make those predictions, what is your accuracy? This is your baseline accuracy."
   ]
  },
  {
   "cell_type": "markdown",
   "id": "4ec6c7b6",
   "metadata": {},
   "source": [
    "Baseline accuracy is 0 or did not survive."
   ]
  },
  {
   "cell_type": "code",
   "execution_count": 6,
   "id": "a352b044",
   "metadata": {},
   "outputs": [
    {
     "data": {
      "text/plain": [
       "0.6067415730337079"
      ]
     },
     "execution_count": 6,
     "metadata": {},
     "output_type": "execute_result"
    }
   ],
   "source": [
    "#Instructor Answer:\n",
    "baseline_accuracy = (train.survived == 0).mean()\n",
    "baseline_accuracy"
   ]
  },
  {
   "cell_type": "markdown",
   "id": "f72ea78b",
   "metadata": {},
   "source": [
    "## 2. Fit the decision tree classifier to your training sample and transform (i.e. make predictions on the training sample)"
   ]
  },
  {
   "cell_type": "code",
   "execution_count": 7,
   "id": "a3f49a85",
   "metadata": {},
   "outputs": [],
   "source": [
    "x_train = train.drop(columns=['survived', 'passenger_id', 'sex', 'embark_town'])\n",
    "y_train = train.survived\n",
    "\n",
    "x_validate = validate.drop(columns=['survived', 'passenger_id', 'sex', 'embark_town'])\n",
    "y_validate = validate.survived\n",
    "\n",
    "x_test = test.drop(columns=['survived', 'passenger_id', 'sex', 'embark_town'])\n",
    "y_test = test.survived"
   ]
  },
  {
   "cell_type": "code",
   "execution_count": 8,
   "id": "45e7889a",
   "metadata": {},
   "outputs": [],
   "source": [
    "clf3 = DecisionTreeClassifier(max_depth=3, random_state=311)"
   ]
  },
  {
   "cell_type": "code",
   "execution_count": 9,
   "id": "ddadb5ff",
   "metadata": {},
   "outputs": [],
   "source": [
    "clf = clf3.fit(x_train, y_train)"
   ]
  },
  {
   "cell_type": "code",
   "execution_count": 10,
   "id": "367dea1a",
   "metadata": {},
   "outputs": [],
   "source": [
    "#plt.figure(figsize=(13, 7))\n",
    "#plot_tree(clf, feature_names=x_train.columns, class_names=clf.classes_, rounded=True)"
   ]
  },
  {
   "cell_type": "code",
   "execution_count": 11,
   "id": "4414ae1d",
   "metadata": {},
   "outputs": [
    {
     "data": {
      "text/plain": [
       "0.799625468164794"
      ]
     },
     "execution_count": 11,
     "metadata": {},
     "output_type": "execute_result"
    }
   ],
   "source": [
    "#Instructor Answer:\n",
    "clf3.score(x_train, y_train)"
   ]
  },
  {
   "cell_type": "code",
   "execution_count": 12,
   "id": "e7ebd001",
   "metadata": {},
   "outputs": [],
   "source": [
    "y_pred = clf3.predict(x_train)\n",
    "\n",
    "y_pred_proba = clf3.predict_proba(x_train)"
   ]
  },
  {
   "cell_type": "markdown",
   "id": "58315d87",
   "metadata": {},
   "source": [
    "## 3. Evaluate your in-sample results using the model score, confusion matrix, and classification report."
   ]
  },
  {
   "cell_type": "code",
   "execution_count": 13,
   "id": "71852572",
   "metadata": {},
   "outputs": [
    {
     "name": "stdout",
     "output_type": "stream",
     "text": [
      "Accuracy of Decision Tree classifier on training set: 0.80\n"
     ]
    }
   ],
   "source": [
    "print('Accuracy of Decision Tree classifier on training set: {:.2f}'\n",
    "      .format(clf.score(x_train, y_train)))"
   ]
  },
  {
   "cell_type": "code",
   "execution_count": 14,
   "id": "e31110eb",
   "metadata": {},
   "outputs": [
    {
     "data": {
      "text/plain": [
       "array([[291,  33],\n",
       "       [ 74, 136]])"
      ]
     },
     "execution_count": 14,
     "metadata": {},
     "output_type": "execute_result"
    }
   ],
   "source": [
    "confusion_matrix(y_train, y_pred)"
   ]
  },
  {
   "cell_type": "code",
   "execution_count": 15,
   "id": "9bb864c1",
   "metadata": {},
   "outputs": [
    {
     "name": "stdout",
     "output_type": "stream",
     "text": [
      "              precision    recall  f1-score   support\n",
      "\n",
      "           0       0.80      0.90      0.84       324\n",
      "           1       0.80      0.65      0.72       210\n",
      "\n",
      "    accuracy                           0.80       534\n",
      "   macro avg       0.80      0.77      0.78       534\n",
      "weighted avg       0.80      0.80      0.79       534\n",
      "\n"
     ]
    }
   ],
   "source": [
    "print(classification_report(y_train, y_pred))"
   ]
  },
  {
   "cell_type": "code",
   "execution_count": 16,
   "id": "c86ccedd",
   "metadata": {},
   "outputs": [
    {
     "data": {
      "text/plain": [
       "(0.799625468164794,\n",
       "           Pred 0  Pred 1\n",
       " Actual 0     291      33\n",
       " Actual 1      74     136,\n",
       "                     0           1  accuracy   macro avg  weighted avg\n",
       " precision    0.797260    0.804734  0.799625    0.800997      0.800199\n",
       " recall       0.898148    0.647619  0.799625    0.772884      0.799625\n",
       " f1-score     0.844702    0.717678  0.799625    0.781190      0.794749\n",
       " support    324.000000  210.000000  0.799625  534.000000    534.000000,\n",
       "                 metric       score\n",
       " 0             accuracy    0.799625\n",
       " 1   true_positive_rate    0.647619\n",
       " 2  false_positive_rate    0.101852\n",
       " 3   true_negative_rate    0.898148\n",
       " 4  false_negative_rate    0.352381\n",
       " 5            precision    0.804734\n",
       " 6               recall    0.647619\n",
       " 7             f1_score    0.717678\n",
       " 8          support_pos  210.000000\n",
       " 9          support_neg  324.000000)"
      ]
     },
     "execution_count": 16,
     "metadata": {},
     "output_type": "execute_result"
    }
   ],
   "source": [
    "prepare.evaluate_clf(clf3, x_train, y_train, y_pred)"
   ]
  },
  {
   "cell_type": "markdown",
   "id": "94c080d9",
   "metadata": {},
   "source": [
    "## 4. Compute: Accuracy, true positive rate, false positive rate, true negative rate, false negative rate, precision, recall, f1-score, and support."
   ]
  },
  {
   "cell_type": "code",
   "execution_count": 17,
   "id": "5b4676c3",
   "metadata": {},
   "outputs": [],
   "source": [
    "cm = confusion_matrix(y_train, y_pred)"
   ]
  },
  {
   "cell_type": "code",
   "execution_count": 18,
   "id": "7aca95f1",
   "metadata": {},
   "outputs": [
    {
     "data": {
      "text/html": [
       "<div>\n",
       "<style scoped>\n",
       "    .dataframe tbody tr th:only-of-type {\n",
       "        vertical-align: middle;\n",
       "    }\n",
       "\n",
       "    .dataframe tbody tr th {\n",
       "        vertical-align: top;\n",
       "    }\n",
       "\n",
       "    .dataframe thead th {\n",
       "        text-align: right;\n",
       "    }\n",
       "</style>\n",
       "<table border=\"1\" class=\"dataframe\">\n",
       "  <thead>\n",
       "    <tr style=\"text-align: right;\">\n",
       "      <th></th>\n",
       "      <th>metric</th>\n",
       "      <th>score</th>\n",
       "    </tr>\n",
       "  </thead>\n",
       "  <tbody>\n",
       "    <tr>\n",
       "      <th>0</th>\n",
       "      <td>accuracy</td>\n",
       "      <td>0.799625</td>\n",
       "    </tr>\n",
       "    <tr>\n",
       "      <th>1</th>\n",
       "      <td>true_positive_rate</td>\n",
       "      <td>0.647619</td>\n",
       "    </tr>\n",
       "    <tr>\n",
       "      <th>2</th>\n",
       "      <td>false_positive_rate</td>\n",
       "      <td>0.101852</td>\n",
       "    </tr>\n",
       "    <tr>\n",
       "      <th>3</th>\n",
       "      <td>true_negative_rate</td>\n",
       "      <td>0.898148</td>\n",
       "    </tr>\n",
       "    <tr>\n",
       "      <th>4</th>\n",
       "      <td>false_negative_rate</td>\n",
       "      <td>0.352381</td>\n",
       "    </tr>\n",
       "    <tr>\n",
       "      <th>5</th>\n",
       "      <td>precision</td>\n",
       "      <td>0.804734</td>\n",
       "    </tr>\n",
       "    <tr>\n",
       "      <th>6</th>\n",
       "      <td>recall</td>\n",
       "      <td>0.647619</td>\n",
       "    </tr>\n",
       "    <tr>\n",
       "      <th>7</th>\n",
       "      <td>f1_score</td>\n",
       "      <td>0.717678</td>\n",
       "    </tr>\n",
       "    <tr>\n",
       "      <th>8</th>\n",
       "      <td>support_pos</td>\n",
       "      <td>210.000000</td>\n",
       "    </tr>\n",
       "    <tr>\n",
       "      <th>9</th>\n",
       "      <td>support_neg</td>\n",
       "      <td>324.000000</td>\n",
       "    </tr>\n",
       "  </tbody>\n",
       "</table>\n",
       "</div>"
      ],
      "text/plain": [
       "                metric       score\n",
       "0             accuracy    0.799625\n",
       "1   true_positive_rate    0.647619\n",
       "2  false_positive_rate    0.101852\n",
       "3   true_negative_rate    0.898148\n",
       "4  false_negative_rate    0.352381\n",
       "5            precision    0.804734\n",
       "6               recall    0.647619\n",
       "7             f1_score    0.717678\n",
       "8          support_pos  210.000000\n",
       "9          support_neg  324.000000"
      ]
     },
     "execution_count": 18,
     "metadata": {},
     "output_type": "execute_result"
    }
   ],
   "source": [
    "prepare.get_cm_metrics(cm)"
   ]
  },
  {
   "cell_type": "markdown",
   "id": "3905948e",
   "metadata": {},
   "source": [
    "## 5. Run through steps 2-4 using a different max_depth value."
   ]
  },
  {
   "cell_type": "code",
   "execution_count": 28,
   "id": "88be7fd0",
   "metadata": {},
   "outputs": [
    {
     "data": {
      "text/plain": [
       "0.799625468164794"
      ]
     },
     "execution_count": 28,
     "metadata": {},
     "output_type": "execute_result"
    }
   ],
   "source": [
    "clf5 = DecisionTreeClassifier(max_depth=5)\n",
    "clf5.fit(x_train, y_train)\n",
    "clf.score(x_train, y_train)"
   ]
  },
  {
   "cell_type": "code",
   "execution_count": 29,
   "id": "f96a1493",
   "metadata": {},
   "outputs": [
    {
     "data": {
      "text/plain": [
       "0.799625468164794"
      ]
     },
     "execution_count": 29,
     "metadata": {},
     "output_type": "execute_result"
    }
   ],
   "source": [
    "clf8 = DecisionTreeClassifier(max_depth=8)\n",
    "clf8.fit(x_train, y_train)\n",
    "clf.score(x_train, y_train)"
   ]
  },
  {
   "cell_type": "markdown",
   "id": "285f18f6",
   "metadata": {},
   "source": [
    "## 6. Which model performs better on your in-sample data?"
   ]
  },
  {
   "cell_type": "markdown",
   "id": "29e80ea6",
   "metadata": {},
   "source": [
    "Model 3, with max_depth as 8, performs the best on sample data."
   ]
  },
  {
   "cell_type": "markdown",
   "id": "6532ec0c",
   "metadata": {},
   "source": [
    "## 7. Which model performs best on your out-of-sample data, the validate set?"
   ]
  },
  {
   "cell_type": "code",
   "execution_count": 25,
   "id": "113d6cb8",
   "metadata": {},
   "outputs": [],
   "source": [
    "y_val_pred1 = clf3.predict(x_validate)\n",
    "y_val_pred2 = clf5.predict(x_validate)\n",
    "y_val_pred3 = clf8.predict(x_validate)"
   ]
  },
  {
   "cell_type": "code",
   "execution_count": 27,
   "id": "4b883920",
   "metadata": {},
   "outputs": [
    {
     "name": "stdout",
     "output_type": "stream",
     "text": [
      "              precision    recall  f1-score   support\n",
      "\n",
      "           0       0.80      0.92      0.86       107\n",
      "           1       0.84      0.66      0.74        71\n",
      "\n",
      "    accuracy                           0.81       178\n",
      "   macro avg       0.82      0.79      0.80       178\n",
      "weighted avg       0.82      0.81      0.81       178\n",
      "\n",
      "              precision    recall  f1-score   support\n",
      "\n",
      "           0       0.80      0.88      0.84       107\n",
      "           1       0.78      0.66      0.72        71\n",
      "\n",
      "    accuracy                           0.79       178\n",
      "   macro avg       0.79      0.77      0.78       178\n",
      "weighted avg       0.79      0.79      0.79       178\n",
      "\n",
      "              precision    recall  f1-score   support\n",
      "\n",
      "           0       0.81      0.86      0.83       107\n",
      "           1       0.77      0.69      0.73        71\n",
      "\n",
      "    accuracy                           0.79       178\n",
      "   macro avg       0.79      0.77      0.78       178\n",
      "weighted avg       0.79      0.79      0.79       178\n",
      "\n"
     ]
    }
   ],
   "source": [
    "print(classification_report(y_validate, y_val_pred1))\n",
    "\n",
    "print(classification_report(y_validate, y_val_pred2))\n",
    "\n",
    "print(classification_report(y_validate, y_val_pred3))"
   ]
  },
  {
   "cell_type": "markdown",
   "id": "2cdede9b",
   "metadata": {},
   "source": [
    "Model 1, with max depth as 3 performs best on the validate data."
   ]
  }
 ],
 "metadata": {
  "kernelspec": {
   "display_name": "Python 3 (ipykernel)",
   "language": "python",
   "name": "python3"
  },
  "language_info": {
   "codemirror_mode": {
    "name": "ipython",
    "version": 3
   },
   "file_extension": ".py",
   "mimetype": "text/x-python",
   "name": "python",
   "nbconvert_exporter": "python",
   "pygments_lexer": "ipython3",
   "version": "3.10.9"
  }
 },
 "nbformat": 4,
 "nbformat_minor": 5
}
